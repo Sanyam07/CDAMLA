{
 "cells": [
  {
   "cell_type": "markdown",
   "metadata": {},
   "source": [
    "# Feature Engineering\n",
    "\n",
    "Feature engineering is an answer to the question, \"How can I make the most of the data I have?\"\n"
   ]
  },
  {
   "cell_type": "markdown",
   "metadata": {},
   "source": [
    "Let's get started, then. How does one do feature engineering?\n",
    "\n",
    "I'll assume you're familiar with pandas and the decision tree pipeline that we're using for this project. That's the algorithm we're going to engineer the data for; not all algorithms will want the data engineered the same way, though often the benefits will work for many algorithms."
   ]
  },
  {
   "cell_type": "code",
   "execution_count": 1,
   "metadata": {},
   "outputs": [],
   "source": [
    "import pandas as pd"
   ]
  },
  {
   "cell_type": "code",
   "execution_count": 3,
   "metadata": {},
   "outputs": [],
   "source": [
    "# load the data output by src/merger.py\n",
    "original_data = pd.read_csv('./merger/bigTable.csv')"
   ]
  },
  {
   "cell_type": "code",
   "execution_count": 4,
   "metadata": {},
   "outputs": [
    {
     "name": "stdout",
     "output_type": "stream",
     "text": [
      "Index(['id', 'date', 'store_nbr', 'item_nbr', 'unit_sales', 'onpromotion',\n",
      "       'city', 'state', 'cluster', 'family', 'class', 'perishable',\n",
      "       'transactions', 'year', 'month', 'day', 'dayofweek',\n",
      "       'days_til_end_of_data', 'cpi', 'dayoff', 'percent_in_transactions',\n",
      "       'item_store_sales_variance'],\n",
      "      dtype='object')\n",
      "(5877318, 22)\n"
     ]
    },
    {
     "data": {
      "text/html": [
       "<div>\n",
       "<style scoped>\n",
       "    .dataframe tbody tr th:only-of-type {\n",
       "        vertical-align: middle;\n",
       "    }\n",
       "\n",
       "    .dataframe tbody tr th {\n",
       "        vertical-align: top;\n",
       "    }\n",
       "\n",
       "    .dataframe thead th {\n",
       "        text-align: right;\n",
       "    }\n",
       "</style>\n",
       "<table border=\"1\" class=\"dataframe\">\n",
       "  <thead>\n",
       "    <tr style=\"text-align: right;\">\n",
       "      <th></th>\n",
       "      <th>id</th>\n",
       "      <th>date</th>\n",
       "      <th>store_nbr</th>\n",
       "      <th>item_nbr</th>\n",
       "      <th>unit_sales</th>\n",
       "      <th>onpromotion</th>\n",
       "      <th>city</th>\n",
       "      <th>state</th>\n",
       "      <th>cluster</th>\n",
       "      <th>family</th>\n",
       "      <th>...</th>\n",
       "      <th>transactions</th>\n",
       "      <th>year</th>\n",
       "      <th>month</th>\n",
       "      <th>day</th>\n",
       "      <th>dayofweek</th>\n",
       "      <th>days_til_end_of_data</th>\n",
       "      <th>cpi</th>\n",
       "      <th>dayoff</th>\n",
       "      <th>percent_in_transactions</th>\n",
       "      <th>item_store_sales_variance</th>\n",
       "    </tr>\n",
       "  </thead>\n",
       "  <tbody>\n",
       "    <tr>\n",
       "      <th>0</th>\n",
       "      <td>88211471</td>\n",
       "      <td>2016-08-16</td>\n",
       "      <td>44</td>\n",
       "      <td>103520</td>\n",
       "      <td>7.0</td>\n",
       "      <td>True</td>\n",
       "      <td>Quito</td>\n",
       "      <td>Pichincha</td>\n",
       "      <td>5</td>\n",
       "      <td>GROCERY I</td>\n",
       "      <td>...</td>\n",
       "      <td>3941</td>\n",
       "      <td>2016</td>\n",
       "      <td>8</td>\n",
       "      <td>16</td>\n",
       "      <td>1</td>\n",
       "      <td>364</td>\n",
       "      <td>105.123322</td>\n",
       "      <td>False</td>\n",
       "      <td>0.001776</td>\n",
       "      <td>39.466659</td>\n",
       "    </tr>\n",
       "    <tr>\n",
       "      <th>1</th>\n",
       "      <td>88306356</td>\n",
       "      <td>2016-08-17</td>\n",
       "      <td>44</td>\n",
       "      <td>103520</td>\n",
       "      <td>2.0</td>\n",
       "      <td>False</td>\n",
       "      <td>Quito</td>\n",
       "      <td>Pichincha</td>\n",
       "      <td>5</td>\n",
       "      <td>GROCERY I</td>\n",
       "      <td>...</td>\n",
       "      <td>4256</td>\n",
       "      <td>2016</td>\n",
       "      <td>8</td>\n",
       "      <td>17</td>\n",
       "      <td>2</td>\n",
       "      <td>363</td>\n",
       "      <td>105.123322</td>\n",
       "      <td>False</td>\n",
       "      <td>0.000470</td>\n",
       "      <td>39.466659</td>\n",
       "    </tr>\n",
       "    <tr>\n",
       "      <th>2</th>\n",
       "      <td>88399003</td>\n",
       "      <td>2016-08-18</td>\n",
       "      <td>44</td>\n",
       "      <td>103520</td>\n",
       "      <td>4.0</td>\n",
       "      <td>False</td>\n",
       "      <td>Quito</td>\n",
       "      <td>Pichincha</td>\n",
       "      <td>5</td>\n",
       "      <td>GROCERY I</td>\n",
       "      <td>...</td>\n",
       "      <td>3776</td>\n",
       "      <td>2016</td>\n",
       "      <td>8</td>\n",
       "      <td>18</td>\n",
       "      <td>3</td>\n",
       "      <td>362</td>\n",
       "      <td>105.123322</td>\n",
       "      <td>False</td>\n",
       "      <td>0.001059</td>\n",
       "      <td>39.466659</td>\n",
       "    </tr>\n",
       "    <tr>\n",
       "      <th>3</th>\n",
       "      <td>88492368</td>\n",
       "      <td>2016-08-19</td>\n",
       "      <td>44</td>\n",
       "      <td>103520</td>\n",
       "      <td>6.0</td>\n",
       "      <td>False</td>\n",
       "      <td>Quito</td>\n",
       "      <td>Pichincha</td>\n",
       "      <td>5</td>\n",
       "      <td>GROCERY I</td>\n",
       "      <td>...</td>\n",
       "      <td>4185</td>\n",
       "      <td>2016</td>\n",
       "      <td>8</td>\n",
       "      <td>19</td>\n",
       "      <td>4</td>\n",
       "      <td>361</td>\n",
       "      <td>105.123322</td>\n",
       "      <td>False</td>\n",
       "      <td>0.001434</td>\n",
       "      <td>39.466659</td>\n",
       "    </tr>\n",
       "    <tr>\n",
       "      <th>4</th>\n",
       "      <td>88591626</td>\n",
       "      <td>2016-08-20</td>\n",
       "      <td>44</td>\n",
       "      <td>103520</td>\n",
       "      <td>13.0</td>\n",
       "      <td>True</td>\n",
       "      <td>Quito</td>\n",
       "      <td>Pichincha</td>\n",
       "      <td>5</td>\n",
       "      <td>GROCERY I</td>\n",
       "      <td>...</td>\n",
       "      <td>4830</td>\n",
       "      <td>2016</td>\n",
       "      <td>8</td>\n",
       "      <td>20</td>\n",
       "      <td>5</td>\n",
       "      <td>360</td>\n",
       "      <td>105.123322</td>\n",
       "      <td>True</td>\n",
       "      <td>0.002692</td>\n",
       "      <td>39.466659</td>\n",
       "    </tr>\n",
       "  </tbody>\n",
       "</table>\n",
       "<p>5 rows × 22 columns</p>\n",
       "</div>"
      ],
      "text/plain": [
       "         id        date  store_nbr  item_nbr  unit_sales  onpromotion   city  \\\n",
       "0  88211471  2016-08-16         44    103520         7.0         True  Quito   \n",
       "1  88306356  2016-08-17         44    103520         2.0        False  Quito   \n",
       "2  88399003  2016-08-18         44    103520         4.0        False  Quito   \n",
       "3  88492368  2016-08-19         44    103520         6.0        False  Quito   \n",
       "4  88591626  2016-08-20         44    103520        13.0         True  Quito   \n",
       "\n",
       "       state  cluster     family            ...              transactions  \\\n",
       "0  Pichincha        5  GROCERY I            ...                      3941   \n",
       "1  Pichincha        5  GROCERY I            ...                      4256   \n",
       "2  Pichincha        5  GROCERY I            ...                      3776   \n",
       "3  Pichincha        5  GROCERY I            ...                      4185   \n",
       "4  Pichincha        5  GROCERY I            ...                      4830   \n",
       "\n",
       "   year  month  day  dayofweek  days_til_end_of_data         cpi  dayoff  \\\n",
       "0  2016      8   16          1                   364  105.123322   False   \n",
       "1  2016      8   17          2                   363  105.123322   False   \n",
       "2  2016      8   18          3                   362  105.123322   False   \n",
       "3  2016      8   19          4                   361  105.123322   False   \n",
       "4  2016      8   20          5                   360  105.123322    True   \n",
       "\n",
       "   percent_in_transactions  item_store_sales_variance  \n",
       "0                 0.001776                  39.466659  \n",
       "1                 0.000470                  39.466659  \n",
       "2                 0.001059                  39.466659  \n",
       "3                 0.001434                  39.466659  \n",
       "4                 0.002692                  39.466659  \n",
       "\n",
       "[5 rows x 22 columns]"
      ]
     },
     "execution_count": 4,
     "metadata": {},
     "output_type": "execute_result"
    }
   ],
   "source": [
    "print(original_data.columns)\n",
    "print(original_data.shape)\n",
    "original_data.head()"
   ]
  },
  {
   "cell_type": "code",
   "execution_count": 14,
   "metadata": {},
   "outputs": [],
   "source": [
    "import sys, os\n",
    "sys.path.append(os.path.join('src'))\n",
    "from src import splitter"
   ]
  },
  {
   "cell_type": "code",
   "execution_count": 15,
   "metadata": {},
   "outputs": [
    {
     "name": "stdout",
     "output_type": "stream",
     "text": [
      "Loading data from merger output\n",
      "Splitting data 70:30 train:validation\n",
      "Writing to ./splitter/train.csv\n",
      "Writing to ./splitter/validation.csv\n",
      "Finished splitting\n"
     ]
    }
   ],
   "source": [
    "# Now we run splitter and decision_tree with our original data\n",
    "splitter.main()"
   ]
  },
  {
   "cell_type": "code",
   "execution_count": 16,
   "metadata": {},
   "outputs": [],
   "source": [
    "from src import decision_tree"
   ]
  },
  {
   "cell_type": "code",
   "execution_count": 17,
   "metadata": {},
   "outputs": [
    {
     "name": "stdout",
     "output_type": "stream",
     "text": [
      "Loading data from splitter/train.csv\n",
      "Loading data from splitter/validation.csv\n",
      "Encoding categorical variables\n",
      "Joining tables for consistent encoding\n",
      "Creating decision tree model\n",
      "Making prediction on validation data\n",
      "Calculating estimated error\n"
     ]
    },
    {
     "name": "stderr",
     "output_type": "stream",
     "text": [
      "src/evaluation.py:12: RuntimeWarning: divide by zero encountered in log\n",
      "  log_square_errors = (np.log(predictions + 1) - np.log(targets + 1)) ** 2\n",
      "src/evaluation.py:12: RuntimeWarning: invalid value encountered in log\n",
      "  log_square_errors = (np.log(predictions + 1) - np.log(targets + 1)) ** 2\n"
     ]
    },
    {
     "name": "stdout",
     "output_type": "stream",
     "text": [
      "Writing to ./decision_tree/model.pkl\n",
      "Writing to ./decision_tree/score_and_metadata.csv\n",
      "Done deciding with trees\n",
      "Decision tree analysis done with a validation score (error rate) of 0.00268005495579566.\n"
     ]
    }
   ],
   "source": [
    "decision_tree.main()"
   ]
  },
  {
   "cell_type": "code",
   "execution_count": 18,
   "metadata": {},
   "outputs": [],
   "source": [
    "original_validation_score = 0.00268005495579566"
   ]
  },
  {
   "cell_type": "markdown",
   "metadata": {},
   "source": [
    "So now we have a baseline for how well our decision tree performed before we added a feature.\n",
    "\n",
    "Let's see what happens if we add a `two_weeks_before_christmas` and a `two_weeks_after_christmas` column, as per our Exploratory Analysis discussion."
   ]
  },
  {
   "cell_type": "code",
   "execution_count": 23,
   "metadata": {},
   "outputs": [],
   "source": [
    "# Re-read the data and use datetime objects for the date\n",
    "engineered_data = pd.read_csv('./merger/bigTable.csv')\n",
    "engineered_data.date = pd.to_datetime(engineered_data.date)\n"
   ]
  },
  {
   "cell_type": "code",
   "execution_count": 24,
   "metadata": {},
   "outputs": [],
   "source": [
    "# Create a before_christmas_window\n",
    "start_date = pd.to_datetime('2016-12-11')\n",
    "end_date = pd.to_datetime('2016-12-25')\n",
    "before_christmas = (engineered_data['date'] > start_date) & (engineered_data['date'] <= end_date)"
   ]
  },
  {
   "cell_type": "code",
   "execution_count": 25,
   "metadata": {},
   "outputs": [],
   "source": [
    "# Create an after_christmas_window\n",
    "start_date = pd.to_datetime('2016-12-25')\n",
    "end_date = pd.to_datetime('2017-01-08')\n",
    "after_christmas = (engineered_data['date'] > start_date) & (engineered_data['date'] <= end_date)"
   ]
  },
  {
   "cell_type": "code",
   "execution_count": 37,
   "metadata": {},
   "outputs": [],
   "source": [
    "engineered_data['two_weeks_before_christmas'] = before_christmas\n",
    "engineered_data['two_weeks_after_christmas'] = after_christmas"
   ]
  },
  {
   "cell_type": "markdown",
   "metadata": {},
   "source": [
    "#### Just as a spot check, let's look at the date of the first few records in our new columns"
   ]
  },
  {
   "cell_type": "code",
   "execution_count": 38,
   "metadata": {},
   "outputs": [
    {
     "name": "stdout",
     "output_type": "stream",
     "text": [
      "117   2016-12-12\n",
      "118   2016-12-13\n",
      "119   2016-12-14\n",
      "120   2016-12-15\n",
      "121   2016-12-16\n",
      "Name: date, dtype: datetime64[ns]\n",
      "130   2016-12-26\n",
      "131   2016-12-27\n",
      "132   2016-12-28\n",
      "133   2016-12-29\n",
      "134   2016-12-30\n",
      "Name: date, dtype: datetime64[ns]\n"
     ]
    }
   ],
   "source": [
    "print(engineered_data[engineered_data.two_weeks_before_christmas == True].date.head())\n",
    "print(engineered_data[engineered_data.two_weeks_after_christmas == True].date.head())"
   ]
  },
  {
   "cell_type": "markdown",
   "metadata": {},
   "source": [
    "Seems okay to me. Let's see how it changes the results now."
   ]
  },
  {
   "cell_type": "code",
   "execution_count": 41,
   "metadata": {},
   "outputs": [],
   "source": [
    "engineered_data.to_csv('./merger/bigTable.csv', index=False)\n"
   ]
  },
  {
   "cell_type": "code",
   "execution_count": 42,
   "metadata": {},
   "outputs": [
    {
     "name": "stdout",
     "output_type": "stream",
     "text": [
      "Loading data from merger output\n",
      "Splitting data 70:30 train:validation\n",
      "Writing to ./splitter/train.csv\n",
      "Writing to ./splitter/validation.csv\n",
      "Finished splitting\n"
     ]
    }
   ],
   "source": [
    "splitter.main()\n"
   ]
  },
  {
   "cell_type": "code",
   "execution_count": 43,
   "metadata": {},
   "outputs": [
    {
     "name": "stdout",
     "output_type": "stream",
     "text": [
      "Loading data from splitter/train.csv\n",
      "Loading data from splitter/validation.csv\n",
      "Encoding categorical variables\n",
      "Joining tables for consistent encoding\n",
      "Creating decision tree model\n",
      "Making prediction on validation data\n",
      "Calculating estimated error\n"
     ]
    },
    {
     "name": "stderr",
     "output_type": "stream",
     "text": [
      "src/evaluation.py:12: RuntimeWarning: divide by zero encountered in log\n",
      "  log_square_errors = (np.log(predictions + 1) - np.log(targets + 1)) ** 2\n",
      "src/evaluation.py:12: RuntimeWarning: invalid value encountered in log\n",
      "  log_square_errors = (np.log(predictions + 1) - np.log(targets + 1)) ** 2\n"
     ]
    },
    {
     "name": "stdout",
     "output_type": "stream",
     "text": [
      "Writing to ./decision_tree/model.pkl\n",
      "Writing to ./decision_tree/score_and_metadata.csv\n",
      "Done deciding with trees\n",
      "Decision tree analysis done with a validation score (error rate) of 0.003692818003915606.\n"
     ]
    }
   ],
   "source": [
    "decision_tree.main()"
   ]
  },
  {
   "cell_type": "code",
   "execution_count": 44,
   "metadata": {},
   "outputs": [],
   "source": [
    "engineered_validation_score = 0.003692818003915606"
   ]
  },
  {
   "cell_type": "code",
   "execution_count": 45,
   "metadata": {},
   "outputs": [
    {
     "name": "stdout",
     "output_type": "stream",
     "text": [
      "-0.0010127630481199463\n"
     ]
    }
   ],
   "source": [
    "print(original_validation_score - engineered_validation_score)"
   ]
  },
  {
   "cell_type": "markdown",
   "metadata": {},
   "source": [
    "So as it turns out, adding a boolean about before/after Christmas slightly hurt our performance. \n",
    "\n",
    "- Now we should iterate on the features \n",
    "  - for example, maybe two weeks is too wide a window\n",
    "- or maybe it's time to question if the scoring algorithm provided to us by the kaggle competition\n",
    "  - should we replace nwrmsle with another error measurement?"
   ]
  },
  {
   "cell_type": "code",
   "execution_count": null,
   "metadata": {},
   "outputs": [],
   "source": []
  }
 ],
 "metadata": {
  "kernelspec": {
   "display_name": "Python 3",
   "language": "python",
   "name": "python3"
  },
  "language_info": {
   "codemirror_mode": {
    "name": "ipython",
    "version": 3
   },
   "file_extension": ".py",
   "mimetype": "text/x-python",
   "name": "python",
   "nbconvert_exporter": "python",
   "pygments_lexer": "ipython3",
   "version": "3.7.3"
  }
 },
 "nbformat": 4,
 "nbformat_minor": 2
}
